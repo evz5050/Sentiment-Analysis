{
  "nbformat": 4,
  "nbformat_minor": 0,
  "metadata": {
    "colab": {
      "name": "recurrent_neural_net.ipynb",
      "provenance": [],
      "collapsed_sections": []
    },
    "kernelspec": {
      "name": "python3",
      "display_name": "Python 3"
    }
  },
  "cells": [
    {
      "cell_type": "code",
      "metadata": {
        "colab": {
          "base_uri": "https://localhost:8080/"
        },
        "id": "g0hPM8rFW9rN",
        "outputId": "2a68a15f-3d5d-4c4b-ed82-a5e3ccc05402"
      },
      "source": [
        " # link drive\n",
        "from google.colab import drive\n",
        "drive.mount('/content/drive')"
      ],
      "execution_count": null,
      "outputs": [
        {
          "output_type": "stream",
          "text": [
            "Drive already mounted at /content/drive; to attempt to forcibly remount, call drive.mount(\"/content/drive\", force_remount=True).\n"
          ],
          "name": "stdout"
        }
      ]
    },
    {
      "cell_type": "code",
      "metadata": {
        "colab": {
          "base_uri": "https://localhost:8080/"
        },
        "id": "9ZmTJr-cYGhy",
        "outputId": "6aeeef65-44d9-4c52-e6cd-17172f4e0583"
      },
      "source": [
        "# import packages\n",
        "import numpy as np\n",
        "import re\n",
        "import nltk\n",
        "from sklearn.datasets import load_files\n",
        "nltk.download('stopwords')\n",
        "import pickle\n",
        "import csv\n",
        "import pandas as pd\n",
        "\n",
        "from nltk.stem import WordNetLemmatizer\n",
        "nltk.download('wordnet')\n",
        "\n",
        "from sklearn.feature_extraction.text import CountVectorizer"
      ],
      "execution_count": null,
      "outputs": [
        {
          "output_type": "stream",
          "text": [
            "[nltk_data] Downloading package stopwords to /root/nltk_data...\n",
            "[nltk_data]   Package stopwords is already up-to-date!\n",
            "[nltk_data] Downloading package wordnet to /root/nltk_data...\n",
            "[nltk_data]   Package wordnet is already up-to-date!\n"
          ],
          "name": "stdout"
        }
      ]
    },
    {
      "cell_type": "code",
      "metadata": {
        "colab": {
          "base_uri": "https://localhost:8080/"
        },
        "id": "3GbQgNgfX2Tj",
        "outputId": "80e8fd3d-09e1-40dc-8f67-41ac0df6bd6e"
      },
      "source": [
        "# get training data \n",
        "train_data = pd.read_csv('/content/drive/My Drive/Colab Notebooks/340W_Project/data/train.tsv', sep='\\t', header=0)\n",
        "train_pid = train_data['PhraseId'].tolist()\n",
        "train_sid = train_data['SentenceId'].tolist()\n",
        "train_phrase = train_data['Phrase'].tolist()\n",
        "train_y = train_data['Sentiment'].tolist()\n",
        "train_data\n",
        "\n",
        "# repeat this same process for the test data\n",
        "# recall that there is no sentiment column here\n",
        "test_data = pd.read_csv('/content/drive/My Drive/Colab Notebooks/340W_Project/data/test.tsv', sep='\\t', header=0)\n",
        "test_pid = test_data['PhraseId'].tolist()\n",
        "test_sid = test_data['SentenceId'].tolist()\n",
        "test_phrase = test_data['Phrase'].tolist()\n",
        "test_data\n",
        "\n",
        "print('Loaded dataset with {} training samples, {} test samples'.format(len(train_phrase), len(test_phrase)))"
      ],
      "execution_count": null,
      "outputs": [
        {
          "output_type": "stream",
          "text": [
            "Loaded dataset with 156060 training samples, 66292 test samples\n"
          ],
          "name": "stdout"
        }
      ]
    },
    {
      "cell_type": "code",
      "metadata": {
        "colab": {
          "base_uri": "https://localhost:8080/"
        },
        "id": "gT8dsW-cYmog",
        "outputId": "cbf3a9b7-c8f5-4adc-82b4-4f4dde94a846"
      },
      "source": [
        "print('---review---')\n",
        "print(train_phrase[0])\n",
        "print('---label---')\n",
        "print(train_y[0])"
      ],
      "execution_count": null,
      "outputs": [
        {
          "output_type": "stream",
          "text": [
            "---review---\n",
            "A series of escapades demonstrating the adage that what is good for the goose is also good for the gander , some of which occasionally amuses but none of which amounts to much of a story .\n",
            "---label---\n",
            "1\n"
          ],
          "name": "stdout"
        }
      ]
    },
    {
      "cell_type": "code",
      "metadata": {
        "colab": {
          "base_uri": "https://localhost:8080/"
        },
        "id": "cJv2r1VQY8g7",
        "outputId": "bb64debb-d09a-4928-9cde-df5ff0cac794"
      },
      "source": [
        "from nltk.corpus import stopwords\n",
        "\n",
        "def phrase_preprocessor(phrases):\n",
        "  stemmer = WordNetLemmatizer()\n",
        "\n",
        "  processed_phrases = []\n",
        "\n",
        "  for sen in range(len(phrases)):\n",
        "    # remove special chars\n",
        "    phrase = re.sub(r'\\W', ' ', str(phrases[sen]))\n",
        "\n",
        "    # remove all single characters\n",
        "    phrase = re.sub(r'\\s+[a-zA-Z]\\s+', ' ', phrase)\n",
        "\n",
        "    # removes single characters from start of phrase\n",
        "    phrase = re.sub(r'\\^[a-zA-Z]\\s+', ' ', phrase) \n",
        "\n",
        "    # replace multiple spaces with a single space\n",
        "    phrase = re.sub(r'\\s+', ' ', phrase, flags=re.I)\n",
        "\n",
        "    # make the phrase all lowercse\n",
        "    phrase = phrase.lower()\n",
        "\n",
        "    # lemmatization (i.e. remove small differences that dont't matter)\n",
        "    # Ex: \"cats\" -> \"cat\"\n",
        "    phrase = phrase.split()\n",
        "    phrase = [stemmer.lemmatize(w) for w in phrase if not w in set(stopwords.words('english'))]\n",
        "    # phrase = [stemmer.lemmatize(w) for w in phrase]\n",
        "    phrase = ' '.join(phrase)\n",
        "\n",
        "    # append to output list\n",
        "    processed_phrases.append(phrase)\n",
        "\n",
        "  return processed_phrases\n",
        "\n",
        "# add a column of these processed phrases for both the train and test data\n",
        "test_processed = phrase_preprocessor(test_phrase)\n",
        "train_processed = phrase_preprocessor(train_phrase)\n",
        "\n",
        "print('---review---')\n",
        "print(train_processed[0])\n",
        "print('---label---')\n",
        "print(train_y[0])"
      ],
      "execution_count": null,
      "outputs": [
        {
          "output_type": "stream",
          "text": [
            "---review---\n",
            "series escapade demonstrating adage good goose also good gander occasionally amuses none amount much story\n",
            "---label---\n",
            "1\n"
          ],
          "name": "stdout"
        }
      ]
    },
    {
      "cell_type": "code",
      "metadata": {
        "colab": {
          "base_uri": "https://localhost:8080/"
        },
        "id": "DxJJCSQLbJAI",
        "outputId": "fc6a40de-fe2d-4ebc-d90f-c6256a17751f"
      },
      "source": [
        "# tokenize all words into numbers\n",
        "\n",
        "n_words = 15000\n",
        "\n",
        "train_tokens = []\n",
        "test_tokens = []\n",
        "tokens = {}\n",
        "value = 1\n",
        "total_phrases = train_processed + test_processed\n",
        "for phrase in total_phrases:\n",
        "  for word in phrase.split():\n",
        "    if word not in tokens:\n",
        "      tokens.update({word: value})\n",
        "      value += 1\n",
        "# set words greater than n_words to 0\n",
        "for word in tokens:\n",
        "  if tokens[word] > n_words:\n",
        "    tokens.update({word: 0})\n",
        "# tokenized train\n",
        "for phrase in train_processed:\n",
        "  tmp = []\n",
        "  for word in phrase.split():\n",
        "    tmp.append(tokens[word])\n",
        "  train_tokens.append(tmp)\n",
        "# tokenized test\n",
        "for phrase in test_processed:\n",
        "  tmp = []\n",
        "  for word in phrase.split():\n",
        "    tmp.append(tokens[word])\n",
        "  test_tokens.append(tmp)\n",
        "\n",
        "# view results\n",
        "print('---review---')\n",
        "print(train_tokens[0])\n",
        "print('---label---')\n",
        "print(train_y[0])"
      ],
      "execution_count": null,
      "outputs": [
        {
          "output_type": "stream",
          "text": [
            "---review---\n",
            "[1, 2, 3, 4, 5, 6, 7, 5, 8, 9, 10, 11, 12, 13, 14]\n",
            "---label---\n",
            "1\n"
          ],
          "name": "stdout"
        }
      ]
    },
    {
      "cell_type": "code",
      "metadata": {
        "colab": {
          "base_uri": "https://localhost:8080/"
        },
        "id": "Vu5aLUyOdfnJ",
        "outputId": "82d0483c-92ac-49ab-c355-7ff006bd32bd"
      },
      "source": [
        "print(len(train_tokens))\n",
        "print(len(test_tokens))\n",
        "\n",
        "print('Maximum review length: {}'.format(\n",
        "len(max((train_tokens + test_tokens), key=len))))\n",
        "\n",
        "print('Minimum review length: {}'.format(\n",
        "len(min((train_tokens + test_tokens), key=len))))"
      ],
      "execution_count": null,
      "outputs": [
        {
          "output_type": "stream",
          "text": [
            "156060\n",
            "66292\n",
            "Maximum review length: 30\n",
            "Minimum review length: 0\n"
          ],
          "name": "stdout"
        }
      ]
    },
    {
      "cell_type": "code",
      "metadata": {
        "colab": {
          "base_uri": "https://localhost:8080/"
        },
        "id": "GMVXhP7wjDEd",
        "outputId": "ddcbebfa-be67-4827-8f87-c6d9b8739a6f"
      },
      "source": [
        "from keras.preprocessing import sequence\n",
        "\n",
        "max_words = 30\n",
        "\n",
        "X_train = np.array(sequence.pad_sequences(train_tokens, maxlen=max_words))\n",
        "X_test = np.array(sequence.pad_sequences(test_tokens, maxlen=max_words))\n",
        "y_train = np.array([[1 if i==val else 0 for i in range(5)] for val in train_y])\n",
        "# y_train = np.array(train_y)\n",
        "\n",
        "print(\"train shape: \" + str(np.shape(X_train)))\n",
        "print(\"token shape: \" + str(np.shape(y_train)))\n",
        "print(\"test shape: \" + str(np.shape(X_test)))\n",
        "print(\"\\n\")\n",
        "\n",
        "# view results\n",
        "print('---review---')\n",
        "print(X_train[0])\n",
        "print('---label---')\n",
        "print(y_train[0])"
      ],
      "execution_count": null,
      "outputs": [
        {
          "output_type": "stream",
          "text": [
            "train shape: (156060, 30)\n",
            "token shape: (156060, 5)\n",
            "test shape: (66292, 30)\n",
            "\n",
            "\n",
            "---review---\n",
            "[ 0  0  0  0  0  0  0  0  0  0  0  0  0  0  0  1  2  3  4  5  6  7  5  8\n",
            "  9 10 11 12 13 14]\n",
            "---label---\n",
            "[0 1 0 0 0]\n"
          ],
          "name": "stdout"
        }
      ]
    },
    {
      "cell_type": "code",
      "metadata": {
        "colab": {
          "base_uri": "https://localhost:8080/"
        },
        "id": "dEG0GuqhjLcK",
        "outputId": "369135c2-9374-43ef-d012-ae90aa113657"
      },
      "source": [
        "from keras import Sequential, backend\n",
        "from keras.layers import Embedding, LSTM, Dense, Dropout\n",
        "\n",
        "# hyperparameters for NN architecture\n",
        "embedding_size=32\n",
        "model=Sequential()\n",
        "model.add(Embedding(len(tokens), embedding_size, input_length=max_words))\n",
        "model.add(LSTM(100, return_sequences=True))\n",
        "model.add(LSTM(50, return_sequences=True))\n",
        "model.add(LSTM(25))\n",
        "model.add(Dense(5, activation='sigmoid'))\n",
        "print(model.summary())\n",
        "\n",
        "model.compile(loss='categorical_crossentropy', \n",
        "             optimizer='adam', \n",
        "             metrics=['categorical_accuracy'])\n",
        "\n",
        "# hyperparameters for the optimizer\n",
        "backend.set_value(model.optimizer.learning_rate, 0.001)\n",
        "backend.set_value(model.optimizer.beta_1, 0.900)\n",
        "backend.set_value(model.optimizer.beta_2, 0.999)\n",
        "\n",
        "# hyperparameters for train/test split\n",
        "from sklearn.model_selection import train_test_split\n",
        "X_train2, X_valid, y_train2, y_valid = train_test_split(X_train, y_train, test_size = 0.40, random_state = 0)\n",
        "\n",
        "# hyperparameters for training\n",
        "batch_size = 64\n",
        "num_epochs = 5\n",
        "hist = model.fit(X_train2, y_train2, validation_data=(X_valid, y_valid), batch_size=batch_size, epochs=num_epochs)"
      ],
      "execution_count": null,
      "outputs": [
        {
          "output_type": "stream",
          "text": [
            "Model: \"sequential_2\"\n",
            "_________________________________________________________________\n",
            "Layer (type)                 Output Shape              Param #   \n",
            "=================================================================\n",
            "embedding_2 (Embedding)      (None, 30, 32)            510048    \n",
            "_________________________________________________________________\n",
            "lstm_6 (LSTM)                (None, 30, 100)           53200     \n",
            "_________________________________________________________________\n",
            "lstm_7 (LSTM)                (None, 30, 50)            30200     \n",
            "_________________________________________________________________\n",
            "lstm_8 (LSTM)                (None, 25)                7600      \n",
            "_________________________________________________________________\n",
            "dense_2 (Dense)              (None, 5)                 130       \n",
            "=================================================================\n",
            "Total params: 601,178\n",
            "Trainable params: 601,178\n",
            "Non-trainable params: 0\n",
            "_________________________________________________________________\n",
            "None\n",
            "Epoch 1/5\n",
            "1464/1464 [==============================] - 126s 86ms/step - loss: 1.1627 - categorical_accuracy: 0.5414 - val_loss: 0.9539 - val_categorical_accuracy: 0.6131\n",
            "Epoch 2/5\n",
            "1464/1464 [==============================] - 129s 88ms/step - loss: 0.8761 - categorical_accuracy: 0.6383 - val_loss: 0.9182 - val_categorical_accuracy: 0.6228\n",
            "Epoch 3/5\n",
            "1464/1464 [==============================] - 129s 88ms/step - loss: 0.8093 - categorical_accuracy: 0.6627 - val_loss: 0.8861 - val_categorical_accuracy: 0.6393\n",
            "Epoch 4/5\n",
            "1464/1464 [==============================] - 129s 88ms/step - loss: 0.7770 - categorical_accuracy: 0.6798 - val_loss: 0.8844 - val_categorical_accuracy: 0.6421\n",
            "Epoch 5/5\n",
            "1464/1464 [==============================] - 129s 88ms/step - loss: 0.7540 - categorical_accuracy: 0.6892 - val_loss: 0.8793 - val_categorical_accuracy: 0.6450\n"
          ],
          "name": "stdout"
        }
      ]
    },
    {
      "cell_type": "code",
      "metadata": {
        "colab": {
          "base_uri": "https://localhost:8080/",
          "height": 531
        },
        "id": "JQ5NrFVoCq2-",
        "outputId": "ea7f1636-d02c-4792-9764-4ea05906f123"
      },
      "source": [
        "import matplotlib.pyplot as plt\n",
        "\n",
        "print(hist.history.keys())\n",
        "\n",
        "plt.plot(hist.history['categorical_accuracy'])\n",
        "plt.plot(hist.history['val_categorical_accuracy'])\n",
        "plt.show()\n",
        "\n",
        "plt.plot(hist.history['loss'])\n",
        "plt.plot(hist.history['val_loss'])\n",
        "plt.show()"
      ],
      "execution_count": null,
      "outputs": [
        {
          "output_type": "stream",
          "text": [
            "dict_keys(['loss', 'categorical_accuracy', 'val_loss', 'val_categorical_accuracy'])\n"
          ],
          "name": "stdout"
        },
        {
          "output_type": "display_data",
          "data": {
            "image/png": "[encoded data removed]",
            "text/plain": [
              "<Figure size 432x288 with 1 Axes>"
            ]
          },
          "metadata": {
            "tags": [],
            "needs_background": "light"
          }
        },
        {
          "output_type": "display_data",
          "data": {
            "image/png": "[encoded data removed]",
            "text/plain": [
              "<Figure size 432x288 with 1 Axes>"
            ]
          },
          "metadata": {
            "tags": [],
            "needs_background": "light"
          }
        }
      ]
    },
    {
      "cell_type": "code",
      "metadata": {
        "colab": {
          "base_uri": "https://localhost:8080/",
          "height": 34
        },
        "id": "0qy76Gj3H0On",
        "outputId": "c4f1f94d-3614-461a-a34a-8a6180ab54b3"
      },
      "source": [
        "y_pred = [row.tolist().index(max(row)) for row in model.predict(X_test)]\n",
        "d = {'PhraseId':test_data['PhraseId'].tolist(), 'Sentiment':y_pred}\n",
        "df = pd.DataFrame(d)\n",
        "\n",
        "# create the csv and download it (in order to submit to Kaggle)\n",
        "from google.colab import files\n",
        "df.to_csv('/content/drive/My Drive/Colab Notebooks/340W_Project/data/submission.csv', index=False)\n",
        "files.download('/content/drive/My Drive/Colab Notebooks/340W_Project/data/submission.csv')"
      ],
      "execution_count": null,
      "outputs": [
        {
          "output_type": "display_data",
          "data": {
            "application/javascript": [
              "\n",
              "    async function download(id, filename, size) {\n",
              "      if (!google.colab.kernel.accessAllowed) {\n",
              "        return;\n",
              "      }\n",
              "      const div = document.createElement('div');\n",
              "      const label = document.createElement('label');\n",
              "      label.textContent = `Downloading \"${filename}\": `;\n",
              "      div.appendChild(label);\n",
              "      const progress = document.createElement('progress');\n",
              "      progress.max = size;\n",
              "      div.appendChild(progress);\n",
              "      document.body.appendChild(div);\n",
              "\n",
              "      const buffers = [];\n",
              "      let downloaded = 0;\n",
              "\n",
              "      const channel = await google.colab.kernel.comms.open(id);\n",
              "      // Send a message to notify the kernel that we're ready.\n",
              "      channel.send({})\n",
              "\n",
              "      for await (const message of channel.messages) {\n",
              "        // Send a message to notify the kernel that we're ready.\n",
              "        channel.send({})\n",
              "        if (message.buffers) {\n",
              "          for (const buffer of message.buffers) {\n",
              "            buffers.push(buffer);\n",
              "            downloaded += buffer.byteLength;\n",
              "            progress.value = downloaded;\n",
              "          }\n",
              "        }\n",
              "      }\n",
              "      const blob = new Blob(buffers, {type: 'application/binary'});\n",
              "      const a = document.createElement('a');\n",
              "      a.href = window.URL.createObjectURL(blob);\n",
              "      a.download = filename;\n",
              "      div.appendChild(a);\n",
              "      a.click();\n",
              "      div.remove();\n",
              "    }\n",
              "  "
            ],
            "text/plain": [
              "<IPython.core.display.Javascript object>"
            ]
          },
          "metadata": {
            "tags": []
          }
        },
        {
          "output_type": "display_data",
          "data": {
            "application/javascript": [
              "download(\"download_7c3138f6-a536-48a2-9390-f883e3fc44a8\", \"submission.csv\", 596647)"
            ],
            "text/plain": [
              "<IPython.core.display.Javascript object>"
            ]
          },
          "metadata": {
            "tags": []
          }
        }
      ]
    },
    {
      "cell_type": "code",
      "metadata": {
        "colab": {
          "base_uri": "https://localhost:8080/"
        },
        "id": "5hdxFd-JNZy0",
        "outputId": "92687225-d505-4cc5-8b5f-e1e89c985dda"
      },
      "source": [
        "# show proportions of each category in your predictions\n",
        "for i in range(5):\n",
        "  print(str(i) + \": \" + str(sum([1 if i==j else 0 for j in y_pred])/len(y_pred)))"
      ],
      "execution_count": null,
      "outputs": [
        {
          "output_type": "stream",
          "text": [
            "0: 0.016020032583117117\n",
            "1: 0.17326374223134014\n",
            "2: 0.5903125565679117\n",
            "3: 0.17917697459723647\n",
            "4: 0.04122669402039462\n"
          ],
          "name": "stdout"
        }
      ]
    },
    {
      "cell_type": "code",
      "metadata": {
        "colab": {
          "base_uri": "https://localhost:8080/"
        },
        "id": "YyIToMUk-Wsj",
        "outputId": "de93a67f-ace1-4549-fc06-9627466bdcff"
      },
      "source": [
        "# see how the model does on predicting differen tags\n",
        "valid_preds = [row.tolist().index(max(row)) for row in model.predict(X_valid)]\n",
        "valid_truth = [row.tolist().index(1) for row in y_valid]\n",
        "mistakes = {}\n",
        "total = {}\n",
        "for i in range(len(valid_preds)):\n",
        "  if valid_preds[i] != valid_truth[i]:\n",
        "    if valid_truth[i] not in mistakes:\n",
        "      mistakes.update({valid_truth[i]: 1})\n",
        "    else:\n",
        "      mistakes[valid_truth[i]] += 1\n",
        "  if valid_truth[i] not in total:\n",
        "    total.update({valid_truth[i]: 1})\n",
        "  else:\n",
        "    total[valid_truth[i]] += 1\n",
        "\n",
        "for sentiment in range(5):\n",
        "  print(\"accuracy for sentiment \" + str(sentiment) + \": \" + str(1 - (mistakes[sentiment]/total[sentiment])))\n",
        "\n",
        "print(\"overall accuracy: \" + str(1-(sum(list(mistakes.values()))/sum(list(total.values())))))"
      ],
      "execution_count": null,
      "outputs": [
        {
          "output_type": "stream",
          "text": [
            "accuracy for sentiment 0: 0.2466734902763562\n",
            "accuracy for sentiment 1: 0.5794530672579453\n",
            "accuracy for sentiment 2: 0.7923047953803666\n",
            "accuracy for sentiment 3: 0.4986225895316805\n",
            "accuracy for sentiment 4: 0.4035322451164035\n",
            "overall accuracy: 0.6450243496091247\n"
          ],
          "name": "stdout"
        }
      ]
    }
  ]
}